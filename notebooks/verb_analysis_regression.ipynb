{
 "cells": [
  {
   "cell_type": "markdown",
   "id": "e50cc0a1",
   "metadata": {},
   "source": [
    "# Proportion of Verb Usage Analysis"
   ]
  },
  {
   "cell_type": "markdown",
   "id": "b85a1713",
   "metadata": {},
   "source": [
    "This notebook performs data preprocessing, cleaning, and regression analysis on verb usage data to analyze the proportion of verb tenses across subgenres and historical periods."
   ]
  },
  {
   "cell_type": "code",
   "execution_count": null,
   "id": "398c9533",
   "metadata": {},
   "outputs": [],
   "source": [
    "# Import necessary libraries\n",
    "import pandas as pd\n",
    "import numpy as np\n",
    "import statsmodels.api as sm\n",
    "import statsmodels.formula.api as smf\n",
    "import matplotlib.pyplot as plt\n",
    "import seaborn as sns\n",
    "import unicodedata\n",
    "import re"
   ]
  },
  {
   "cell_type": "markdown",
   "id": "a43c5418",
   "metadata": {},
   "source": [
    "## Data Cleaning Functions"
   ]
  },
  {
   "cell_type": "code",
   "execution_count": null,
   "id": "d2e44128",
   "metadata": {},
   "outputs": [],
   "source": [
    "def clean_string_value(value):\n",
    "    '''\n",
    "    Cleans a string by normalizing Unicode, removing special characters,\n",
    "    and formatting it to lowercase with underscores.\n",
    "    '''\n",
    "    if pd.isnull(value):\n",
    "        return value\n",
    "    nfkd_form = unicodedata.normalize('NFKD', value)\n",
    "    only_ascii = nfkd_form.encode('ASCII', 'ignore').decode('utf-8')\n",
    "    only_ascii = re.sub(r\"[^\\w\\s-]\", \"\", only_ascii)\n",
    "    only_ascii = only_ascii.strip().replace(' ', '_').lower()\n",
    "    return only_ascii\n",
    "\n",
    "def clean_column_names(col_names):\n",
    "    '''Applies clean_string_value to a list of column names.'''\n",
    "    return [clean_string_value(name) for name in col_names]"
   ]
  },
  {
   "cell_type": "markdown",
   "id": "6c21aabf",
   "metadata": {},
   "source": [
    "## Load and Clean the Dataset"
   ]
  },
  {
   "cell_type": "code",
   "execution_count": null,
   "id": "d1ed18e5",
   "metadata": {},
   "outputs": [],
   "source": [
    "# Load the dataset\n",
    "df = pd.read_csv('/content/df_metadated_floflo_updated.csv', delimiter=',', encoding='utf-8')\n",
    "\n",
    "# Clean column names\n",
    "df.columns = clean_column_names(df.columns)\n",
    "print(\"Cleaned Column Names:\")\n",
    "print(df.columns)"
   ]
  },
  {
   "cell_type": "markdown",
   "id": "00ee29d1",
   "metadata": {},
   "source": [
    "## Validate Required Columns"
   ]
  },
  {
   "cell_type": "code",
   "execution_count": null,
   "id": "9065b6ee",
   "metadata": {},
   "outputs": [],
   "source": [
    "# Define required columns\n",
    "required_columns = [\n",
    "    'col_name', 'present', 'imparfait', 'passe_simple', 'passe_compose', 'futur', 'plus_que_parfait', \n",
    "    'date', 'canon', 'subgenre'\n",
    "]\n",
    "\n",
    "# Check for missing columns\n",
    "missing_columns = [col for col in required_columns if col not in df.columns]\n",
    "if missing_columns:\n",
    "    print(\"\\nWarning: Missing columns:\", missing_columns)\n",
    "else:\n",
    "    print(\"\\nAll required columns are present.\")"
   ]
  },
  {
   "cell_type": "markdown",
   "id": "6fee88b0",
   "metadata": {},
   "source": [
    "## Add Calculated Columns"
   ]
  },
  {
   "cell_type": "code",
   "execution_count": null,
   "id": "10c837ea",
   "metadata": {},
   "outputs": [],
   "source": [
    "# Calculate total verbs and proportions\n",
    "df['total_verbes'] = df[['present', 'imparfait', 'passe_simple', 'passe_compose', 'futur', 'plus_que_parfait']].sum(axis=1)\n",
    "df['proportion_present'] = df['present'] / df['total_verbes']\n",
    "df['proportion_passe_simple'] = df['passe_simple'] / df['total_verbes']"
   ]
  },
  {
   "cell_type": "markdown",
   "id": "286b7e7d",
   "metadata": {},
   "source": [
    "## Assign Periods Based on Date"
   ]
  },
  {
   "cell_type": "code",
   "execution_count": null,
   "id": "861c4d26",
   "metadata": {},
   "outputs": [],
   "source": [
    "def assign_period_21(year):\n",
    "    '''Assigns a time period to a year based on predefined ranges.'''\n",
    "    if 1811 <= year <= 1831: return '1811_1831'\n",
    "    elif 1832 <= year <= 1852: return '1832_1852'\n",
    "    elif 1853 <= year <= 1873: return '1853_1873'\n",
    "    elif 1874 <= year <= 1894: return '1874_1894'\n",
    "    elif 1895 <= year <= 1915: return '1895_1915'\n",
    "    elif 1916 <= year <= 1936: return '1916_1936'\n",
    "    elif 1937 <= year <= 1957: return '1937_1957'\n",
    "    elif 1958 <= year <= 1978: return '1958_1978'\n",
    "    elif 1979 <= year <= 1999: return '1979_1999'\n",
    "    elif 2000 <= year <= 2024: return '2000_2024'\n",
    "    else: return np.nan\n",
    "\n",
    "# Apply function and drop rows with invalid periods\n",
    "df['period_21'] = df['date'].apply(assign_period_21)\n",
    "df = df.dropna(subset=['period_21'])"
   ]
  },
  {
   "cell_type": "markdown",
   "id": "cc512f05",
   "metadata": {},
   "source": [
    "## Regression Analysis"
   ]
  },
  {
   "cell_type": "code",
   "execution_count": null,
   "id": "c2b166c6",
   "metadata": {},
   "outputs": [],
   "source": [
    "# Run OLS regression for proportion of 'present'\n",
    "formula_reg1 = 'proportion_present ~ canon'\n",
    "for col in pd.get_dummies(df['period_21'], drop_first=True):\n",
    "    formula_reg1 += ' + ' + col\n",
    "\n",
    "model_reg1 = smf.ols(formula=formula_reg1, data=df).fit()\n",
    "print(model_reg1.summary())"
   ]
  },
  {
   "cell_type": "markdown",
   "id": "0c33b907",
   "metadata": {},
   "source": [
    "## Visualize Regression Coefficients"
   ]
  },
  {
   "cell_type": "code",
   "execution_count": null,
   "id": "f63b119e",
   "metadata": {},
   "outputs": [],
   "source": [
    "params = model_reg1.params\n",
    "conf = model_reg1.conf_int()\n",
    "conf.columns = ['2.5%', '97.5%']\n",
    "coef = pd.concat([params, conf], axis=1)\n",
    "\n",
    "plt.figure(figsize=(12, 6))\n",
    "plt.barh(coef.index, coef[0], xerr=[coef[0] - coef['2.5%'], coef['97.5%'] - coef[0]], capsize=4)\n",
    "plt.axvline(x=0, color='black', linestyle='--')\n",
    "plt.title('Regression Coefficients for Proportion of Present')\n",
    "plt.show()"
   ]
  }
 ],
 "metadata": {},
 "nbformat": 4,
 "nbformat_minor": 5
}
